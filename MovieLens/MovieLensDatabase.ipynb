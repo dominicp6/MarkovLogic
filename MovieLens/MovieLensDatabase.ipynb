{
 "cells": [
  {
   "cell_type": "markdown",
   "id": "123cff9f",
   "metadata": {},
   "source": [
    "# MovieLens Database"
   ]
  },
  {
   "cell_type": "markdown",
   "id": "35c72892",
   "metadata": {},
   "source": [
    "ReadME notes here"
   ]
  },
  {
   "cell_type": "code",
   "execution_count": 84,
   "id": "c2916814",
   "metadata": {},
   "outputs": [],
   "source": [
    "import os\n",
    "import pandas as pd\n",
    "from tqdm import tqdm\n",
    "import subprocess\n",
    "\n",
    "NUMBER_USERS = 6040\n",
    "NUMBER_MOVIES = 3952\n",
    "THIS_FOLDER = os.getcwd()"
   ]
  },
  {
   "cell_type": "markdown",
   "id": "0f380217",
   "metadata": {},
   "source": [
    "### 1) Import Dataframes"
   ]
  },
  {
   "cell_type": "code",
   "execution_count": 122,
   "id": "9bd3a0d9",
   "metadata": {},
   "outputs": [
    {
     "name": "stdout",
     "output_type": "stream",
     "text": [
      "Importing files...\n",
      "Done!\n"
     ]
    }
   ],
   "source": [
    "def read_movies_file(file_name):\n",
    "    DataFrame = pd.read_csv(file_name, delimiter='::', names=['MovieID', 'MovieTitle', 'MovieGenres'], engine='python')\n",
    "    return DataFrame \n",
    "\n",
    "def read_users_file(file_name):\n",
    "    DataFrame = pd.read_csv(file_name, delimiter='::', names=['UserID', 'Gender', 'Age', 'Occupation', 'ZipCode'], engine='python')\n",
    "    return DataFrame\n",
    "\n",
    "def read_ratings_file(file_name):\n",
    "    DataFrame = pd.read_csv(file_name, delimiter='::', names=['UserID', 'MovieID', 'Rating', 'Timestamp'], engine='python')\n",
    "    return DataFrame \n",
    "\n",
    "def import_data(directory):\n",
    "    movies_file = os.path.join(directory, 'movies.dat')\n",
    "    users_file = os.path.join(directory, 'users.dat')\n",
    "    ratings_file = os.path.join(directory, 'ratings.dat')\n",
    "\n",
    "    movie_data_frame = read_movies_file(movies_file)\n",
    "    user_data_frame = read_users_file(users_file)\n",
    "    ratings_data_frame = read_ratings_file(ratings_file)\n",
    "\n",
    "    return movie_data_frame, user_data_frame, ratings_data_frame\n",
    "\n",
    "def shuffle_data_frame(data_frame, seed):\n",
    "    pass\n",
    "\n",
    "print('Importing files...')\n",
    "movie_data_frame, user_data_frame, ratings_data_frame = import_data(THIS_FOLDER)\n",
    "\n",
    "#Shuffle the dataframes\n",
    "movie_data_frame = movie_data_frame.sample(frac=1)\n",
    "user_data_frame = user_data_frame.sample(frac=1)\n",
    "ratings_data_frame = ratings_data_frame.sample(frac=1)\n",
    "print('Done!')"
   ]
  },
  {
   "cell_type": "markdown",
   "id": "420459fd",
   "metadata": {},
   "source": [
    "### 2) Settings"
   ]
  },
  {
   "cell_type": "code",
   "execution_count": 65,
   "id": "3014c4b3",
   "metadata": {},
   "outputs": [],
   "source": [
    "num_age_categories =  2                                                 #either 2 or 3\n",
    "num_rating_categories = 2                                               #either 2 or 3\n",
    "restrict_genres = True                                                  #if True then only allow movies of restricted genre\n",
    "restricted_genres = ['Romance', 'Horror', 'Animation', 'Documentary']   \n",
    "alternative_predicate_types = True                                      #if True then Gender(user, gender) instead of Male(user), Female(user) etc\n",
    "                                                                        #similarly for user age and for movie genre\n",
    "number_of_ratings = 1000                                                #integer less than 1000210\n",
    "database_file_name = 'MovieLensMini.db'\n",
    "databaseObj = pd.DataFrame(columns=['predicate', 'arguments'])\n",
    "\n",
    "database_file = os.path.join(THIS_FOLDER, database_file_name)"
   ]
  },
  {
   "cell_type": "markdown",
   "id": "5ed93220",
   "metadata": {},
   "source": [
    "### 3) Populate Banned Movies (if restricting genres)"
   ]
  },
  {
   "cell_type": "code",
   "execution_count": 98,
   "id": "47766a05",
   "metadata": {},
   "outputs": [
    {
     "name": "stdout",
     "output_type": "stream",
     "text": [
      "Constructing banned movie set...\n",
      "Done!\n"
     ]
    }
   ],
   "source": [
    "def write_movie_genre_predicate_to_file(genre, movieID, file, suppress_output):\n",
    "    global databaseObj\n",
    "    if not suppress_output and movieID in rated_movies:\n",
    "        if alternative_predicate_types:\n",
    "            file.write(f\"Genre(M{movieID},{genre})\\n\")\n",
    "            databaseObj = databaseObj.append({'predicate':'Genre', 'arguments':f\"M{movieID},{genre}\"}, ignore_index=True)\n",
    "        else:\n",
    "            file.write(f\"{genre}(M{movieID})\\n\")\n",
    "            databaseObj = databaseObj.append({'predicate':genre, 'arguments':f\"M{movieID}\"}, ignore_index=True)\n",
    "\n",
    "def write_movie_to_file(row, file, suppress_output):\n",
    "    movies_added = 0\n",
    "    movieID = row['MovieID']\n",
    "    genres = row['MovieGenres'].split('|')\n",
    "    for genre in genres:\n",
    "        if restrict_genres:\n",
    "            if genre in restricted_genres:\n",
    "                write_movie_genre_predicate_to_file(genre, movieID, file, suppress_output)\n",
    "                movies_added = 1\n",
    "            else:\n",
    "                banned_movies.add(movieID)\n",
    "        else:\n",
    "            write_movie_genre_predicate_to_file(genre, movieID, file, suppress_output)\n",
    "    \n",
    "    return movies_added\n",
    "\n",
    "def write_movie_ground_atoms_to_file(data_frame, file, suppress_output = False):\n",
    "    number_of_movies = 0\n",
    "    for index,row in data_frame.iterrows():\n",
    "        movies_added = write_movie_to_file(row, file, suppress_output)\n",
    "        number_of_movies += movies_added\n",
    "                \n",
    "def populate_banned_movies(data_frame):\n",
    "    write_movie_ground_atoms_to_file(data_frame, None, suppress_output = True)\n",
    "    \n",
    "\n",
    "print('Constructing banned movie set...')\n",
    "banned_movies = set()\n",
    "populate_banned_movies(movie_data_frame)\n",
    "print('Done!')"
   ]
  },
  {
   "cell_type": "markdown",
   "id": "1334cda8",
   "metadata": {},
   "source": [
    "### 4) Getting Ratings Ground Atoms"
   ]
  },
  {
   "cell_type": "code",
   "execution_count": 67,
   "id": "6480cb89",
   "metadata": {},
   "outputs": [
    {
     "name": "stdout",
     "output_type": "stream",
     "text": [
      "Getting ratings ground atoms...\n",
      "Done!\n"
     ]
    }
   ],
   "source": [
    "rated_movies = []\n",
    "users_rating_movies = []\n",
    "file = open(database_file, 'w')\n",
    "\n",
    "def write_rating_predicate_to_file(rating, row, file):\n",
    "    global databaseObj\n",
    "    if num_rating_categories == 3:\n",
    "        if rating >=4:\n",
    "            rating = 'Positive'\n",
    "        elif rating == 3:\n",
    "            rating = 'Indifferent'\n",
    "        elif rating <= 2:\n",
    "            rating = 'Negative'\n",
    "    elif num_rating_categories == 2:\n",
    "        if rating >=4:\n",
    "            rating = 'Positive'\n",
    "        else:\n",
    "            rating = 'Negative'\n",
    "    else:\n",
    "        raise ValueError('number_of_rating_categories ({}) not supported'.format(num_rating_categories))\n",
    "    if restrict_genres:\n",
    "        if row['MovieID'] not in banned_movies:\n",
    "            rated_movies.append(row['MovieID'])\n",
    "            users_rating_movies.append(row['UserID'])\n",
    "            file.write(f\"Rating(U{row['UserID']},M{row['MovieID']},{rating})\\n\")\n",
    "            databaseObj = databaseObj.append({'predicate':'Rating', 'arguments':f\"U{row['UserID']},M{row['MovieID']},{rating}\"}, ignore_index=True)\n",
    "            return 1\n",
    "        else:\n",
    "            return 0\n",
    "    else:\n",
    "        rated_movies.append(row['MovieID'])\n",
    "        users_rating_movies.append(row['UserID'])\n",
    "        file.write(f\"Rating(U{row['UserID']},M{row['MovieID']},{rating})\\n\")\n",
    "        databaseObj = databaseObj.append({'predicate':'Rating', 'arguments':f\"U{row['UserID']},M{row['MovieID']},{rating}\"}, ignore_index=True)\n",
    "        return 1\n",
    "\n",
    "def write_ratings_ground_atoms_to_file_and_populate_rated_movies_and_users_rating_movies_arrays(data_frame, file):\n",
    "    rating_number = 0\n",
    "    for index,row in data_frame.iterrows():\n",
    "        if rating_number < number_of_ratings:\n",
    "            rating = row['Rating']\n",
    "            rating_obtained = write_rating_predicate_to_file(rating, row, file)\n",
    "            rating_number += rating_obtained\n",
    "\n",
    "print('Getting ratings ground atoms...')\n",
    "write_ratings_ground_atoms_to_file_and_populate_rated_movies_and_users_rating_movies_arrays(ratings_data_frame, file)\n",
    "print('Done!')"
   ]
  },
  {
   "cell_type": "markdown",
   "id": "fe2c069d",
   "metadata": {},
   "source": [
    "### 5) Get Movie Ground Atoms"
   ]
  },
  {
   "cell_type": "code",
   "execution_count": 68,
   "id": "4fe2f0c5",
   "metadata": {},
   "outputs": [
    {
     "name": "stdout",
     "output_type": "stream",
     "text": [
      "Getting movie ground atoms...\n",
      "Done!\n"
     ]
    }
   ],
   "source": [
    "print('Getting movie ground atoms...')\n",
    "write_movie_ground_atoms_to_file(movie_data_frame, file)\n",
    "print('Done!')"
   ]
  },
  {
   "cell_type": "markdown",
   "id": "57125c79",
   "metadata": {},
   "source": [
    "### 6) Get User Ground Atoms"
   ]
  },
  {
   "cell_type": "code",
   "execution_count": 69,
   "id": "d56c799e",
   "metadata": {},
   "outputs": [
    {
     "name": "stdout",
     "output_type": "stream",
     "text": [
      "Getting user ground atoms...\n",
      "Done!\n"
     ]
    }
   ],
   "source": [
    "def write_user_gender_predicate_to_file(gender, userID, file):\n",
    "    global databaseObj\n",
    "    male = \"M\"\n",
    "    female = \"F\"\n",
    "    if alternative_predicate_types:\n",
    "        if gender == male:\n",
    "            file.write(f\"Gender(U{userID},Male)\\n\")\n",
    "            databaseObj = databaseObj.append({'predicate':'Gender', 'arguments':f\"U{userID},Male\"}, ignore_index=True)\n",
    "        elif gender == female:\n",
    "            file.write(f\"Gender(U{userID},Female)\\n\")\n",
    "            databaseObj = databaseObj.append({'predicate':'Gender', 'arguments':f\"U{userID},Female\"}, ignore_index=True)\n",
    "    else:\n",
    "        if gender == male:\n",
    "            file.write(f\"Male(U{userID})\\n\")\n",
    "            databaseObj = databaseObj.append({'predicate':'Male', 'arguments':f\"U{userID}\"}, ignore_index=True)\n",
    "        elif gender == female:\n",
    "            file.write(f\"Female(U{userID})\\n\")\n",
    "            databaseObj = databaseObj.append({'predicate':'Female', 'arguments':f\"U{userID}\"}, ignore_index=True)\n",
    "            \n",
    "def write_user_age_predicate_to_file(age, userID, file):\n",
    "    global databaseObj\n",
    "    if alternative_predicate_types:\n",
    "        if num_age_categories == 3:\n",
    "            if age in [1, 18, 25]:\n",
    "                file.write(f\"Age(U{userID},Youthful)\\n\")\n",
    "                databaseObj = databaseObj.append({'predicate':'Age', 'arguments':f\"U{userID},Youthful\"}, ignore_index=True)  \n",
    "            elif age in [35, 45, 50]:\n",
    "                file.write(f\"Age(U{userID},MiddleAged)\\n\")\n",
    "                databaseObj = databaseObj.append({'predicate':'Age', 'arguments':f\"U{userID},MiddleAged\"}, ignore_index=True)  \n",
    "            elif age == 56:\n",
    "                file.write(f\"Age(U{userID},Old)\\n\")\n",
    "                databaseObj = databaseObj.append({'predicate':'Age', 'arguments':f\"U{userID},Old\"}, ignore_index=True)  \n",
    "        elif num_age_categories == 2:\n",
    "            if age in [1, 18, 25, 35]:\n",
    "                file.write(f\"Age(U{userID},Young)\\n\")\n",
    "                databaseObj = databaseObj.append({'predicate':'Age', 'arguments':f\"U{userID},Young\"}, ignore_index=True)  \n",
    "            elif age in [45, 50, 56]:\n",
    "                file.write(f\"Age(U{userID},Old)\\n\")\n",
    "                databaseObj = databaseObj.append({'predicate':'Age', 'arguments':f\"U{userID},Old\"}, ignore_index=True)  \n",
    "        else:\n",
    "            raise ValueError('number_of_age_categories ({}) not supported'.format(num_age_categories))\n",
    "    else:\n",
    "        if num_age_categories == 3:\n",
    "            if age in [1, 18, 25]:\n",
    "                file.write(f\"Youthful(U{userID})\\n\")\n",
    "                databaseObj = databaseObj.append({'predicate':'Youthful', 'arguments':f\"U{userID}\"}, ignore_index=True)  \n",
    "            elif age in [35, 45, 50]:\n",
    "                file.write(f\"MiddleAged(U{userID})\\n\")\n",
    "                databaseObj = databaseObj.append({'predicate':'MiddleAged', 'arguments':f\"U{userID}\"}, ignore_index=True)  \n",
    "            elif age == 56:\n",
    "                file.write(f\"Old(U{userID})\\n\")\n",
    "                databaseObj = databaseObj.append({'predicate':'Old', 'arguments':f\"U{userID}\"}, ignore_index=True)  \n",
    "        elif num_age_categories == 2:\n",
    "            if age in [1, 18, 25, 35]:\n",
    "                file.write(f\"Young(U{userID})\\n\")\n",
    "                databaseObj = databaseObj.append({'predicate':'Young', 'arguments':f\"U{userID}\"}, ignore_index=True)  \n",
    "            elif age in [45, 50, 56]:\n",
    "                file.write(f\"Old(U{userID})\\n\")\n",
    "                databaseObj = databaseObj.append({'predicate':'Old', 'arguments':f\"U{userID}\"}, ignore_index=True)  \n",
    "        else:\n",
    "            raise ValueError('number_of_age_categories ({}) not supported'.format(num_age_categories))\n",
    "\n",
    "def write_user_ground_atoms_to_file(data_frame, file):\n",
    "    for index,row in data_frame.iterrows():\n",
    "        gender = row['Gender']\n",
    "        age = row['Age']\n",
    "        userID = row['UserID']\n",
    "        if userID in users_rating_movies:\n",
    "            write_user_gender_predicate_to_file(gender, userID, file)\n",
    "            write_user_age_predicate_to_file(age, userID, file)\n",
    "\n",
    "print('Getting user ground atoms...')\n",
    "write_user_ground_atoms_to_file(user_data_frame, file)\n",
    "print('Done!')"
   ]
  },
  {
   "cell_type": "markdown",
   "id": "e0a4e46e",
   "metadata": {},
   "source": [
    "### 7) Preview Database"
   ]
  },
  {
   "cell_type": "code",
   "execution_count": 70,
   "id": "408cc6d9",
   "metadata": {},
   "outputs": [
    {
     "data": {
      "text/html": [
       "<div>\n",
       "<style scoped>\n",
       "    .dataframe tbody tr th:only-of-type {\n",
       "        vertical-align: middle;\n",
       "    }\n",
       "\n",
       "    .dataframe tbody tr th {\n",
       "        vertical-align: top;\n",
       "    }\n",
       "\n",
       "    .dataframe thead th {\n",
       "        text-align: right;\n",
       "    }\n",
       "</style>\n",
       "<table border=\"1\" class=\"dataframe\">\n",
       "  <thead>\n",
       "    <tr style=\"text-align: right;\">\n",
       "      <th></th>\n",
       "      <th>predicate</th>\n",
       "      <th>arguments</th>\n",
       "    </tr>\n",
       "  </thead>\n",
       "  <tbody>\n",
       "    <tr>\n",
       "      <th>0</th>\n",
       "      <td>Rating</td>\n",
       "      <td>U3529,M1997,Negative</td>\n",
       "    </tr>\n",
       "    <tr>\n",
       "      <th>1</th>\n",
       "      <td>Rating</td>\n",
       "      <td>U136,M3081,Positive</td>\n",
       "    </tr>\n",
       "    <tr>\n",
       "      <th>2</th>\n",
       "      <td>Rating</td>\n",
       "      <td>U1943,M1189,Positive</td>\n",
       "    </tr>\n",
       "    <tr>\n",
       "      <th>3</th>\n",
       "      <td>Rating</td>\n",
       "      <td>U3768,M2459,Negative</td>\n",
       "    </tr>\n",
       "    <tr>\n",
       "      <th>4</th>\n",
       "      <td>Rating</td>\n",
       "      <td>U208,M1327,Negative</td>\n",
       "    </tr>\n",
       "    <tr>\n",
       "      <th>...</th>\n",
       "      <td>...</td>\n",
       "      <td>...</td>\n",
       "    </tr>\n",
       "    <tr>\n",
       "      <th>2599</th>\n",
       "      <td>Age</td>\n",
       "      <td>U4651,Old</td>\n",
       "    </tr>\n",
       "    <tr>\n",
       "      <th>2600</th>\n",
       "      <td>Gender</td>\n",
       "      <td>U855,Female</td>\n",
       "    </tr>\n",
       "    <tr>\n",
       "      <th>2601</th>\n",
       "      <td>Age</td>\n",
       "      <td>U855,Young</td>\n",
       "    </tr>\n",
       "    <tr>\n",
       "      <th>2602</th>\n",
       "      <td>Gender</td>\n",
       "      <td>U5711,Male</td>\n",
       "    </tr>\n",
       "    <tr>\n",
       "      <th>2603</th>\n",
       "      <td>Age</td>\n",
       "      <td>U5711,Young</td>\n",
       "    </tr>\n",
       "  </tbody>\n",
       "</table>\n",
       "<p>2604 rows × 2 columns</p>\n",
       "</div>"
      ],
      "text/plain": [
       "     predicate             arguments\n",
       "0       Rating  U3529,M1997,Negative\n",
       "1       Rating   U136,M3081,Positive\n",
       "2       Rating  U1943,M1189,Positive\n",
       "3       Rating  U3768,M2459,Negative\n",
       "4       Rating   U208,M1327,Negative\n",
       "...        ...                   ...\n",
       "2599       Age             U4651,Old\n",
       "2600    Gender           U855,Female\n",
       "2601       Age            U855,Young\n",
       "2602    Gender            U5711,Male\n",
       "2603       Age           U5711,Young\n",
       "\n",
       "[2604 rows x 2 columns]"
      ]
     },
     "metadata": {},
     "output_type": "display_data"
    }
   ],
   "source": [
    "display(databaseObj)"
   ]
  },
  {
   "cell_type": "markdown",
   "id": "bc7a589f",
   "metadata": {},
   "source": [
    "### 8) Structure Learning"
   ]
  },
  {
   "cell_type": "code",
   "execution_count": 125,
   "id": "065f5221",
   "metadata": {},
   "outputs": [
    {
     "name": "stdout",
     "output_type": "stream",
     "text": [
      "Structure learning...\n",
      "Done!\n"
     ]
    }
   ],
   "source": [
    "save_file_name = database_file_name.rstrip('.db')\n",
    "info_file = 'MovieLens.info'\n",
    "type_file = 'MovieLens.type'\n",
    "LSM_DIR = '/home/domphillips/MarkovLogic/lsmcode'\n",
    "DATA_DIR = '/home/domphillips/MarkovLogic/MarkovLogicProject/MovieLens'\n",
    "MLN_DIR = '/home/domphillips/MarkovLogic/MarkovLogicProject/MovieLens/MLNs'\n",
    "\n",
    "def structure_learn(info_file, type_file):\n",
    "    structure_learn_MLN_command = f\"./learnMLN.sh {save_file_name} {database_file_name} {info_file} {type_file} {LSM_DIR} {DATA_DIR} {MLN_DIR}\"\n",
    "    subprocess.call(structure_learn_MLN_command,shell=True)\n",
    "\n",
    "def print_MLN(log_file_name, info_file, type_file):\n",
    "    with open(os.path.join(os.getcwd(), log_file_name), \"a\") as log_file:\n",
    "        log_file.write(f'============================================================================================\\n')\n",
    "        log_file.write(f'------------ CONFIG ------------\\n')\n",
    "        log_file.write(f'num_age_categories : {num_age_categories}\\n')\n",
    "        log_file.write(f'num_rating_categories : {num_rating_categories}\\n')\n",
    "        log_file.write(f'restrict_genres : {restrict_genres}\\n')\n",
    "        log_file.write(f'restricted_genres : {restricted_genres}\\n')\n",
    "        log_file.write(f'alternative_predicate_types : {alternative_predicate_types}\\n')\n",
    "        log_file.write(f'number_of_ratings : {number_of_ratings}\\n')\n",
    "        log_file.write('\\n')\n",
    "        log_file.write(f'database size: {len(databaseObj.index)}\\n')\n",
    "        log_file.write(f'------------ TYPES -------------\\n')\n",
    "        with open(os.path.join(os.getcwd(),type_file), \"r\") as t_file:\n",
    "            for line in t_file.readlines():\n",
    "                print(line)\n",
    "                log_file.write(line)\n",
    "        log_file.write('\\n')\n",
    "        log_file.write(f'------------  INFO -------------\\n')\n",
    "        with open(os.path.join(os.getcwd(),info_file), \"r\") as i_file:\n",
    "            for line in i_file.readlines():\n",
    "                log_file.write(line)\n",
    "        log_file.write('\\n')\n",
    "        log_file.write('\\n')\n",
    "        log_file.write(f'------- DATABASE SNIPPIT ------\\n')\n",
    "        databaseObj.sample(n=20).to_csv(path_or_buf = log_file)\n",
    "        log_file.write('-------------- MLN -------------\\n')\n",
    "        with open(os.path.join(MLN_DIR, f\"{save_file_name}-rules-out.mln\"), \"r\") as f:\n",
    "            for line in f.readlines():\n",
    "                line = line[0:-1]\n",
    "                line_frag = line.split(' ')\n",
    "                try:\n",
    "                    float(line_frag[0])\n",
    "                    log_file.write(line+'\\n')\n",
    "                except:\n",
    "                    pass\n",
    "            \n",
    "print('Structure learning...')\n",
    "structure_learn(info_file, type_file)\n",
    "print('Done!')"
   ]
  },
  {
   "cell_type": "markdown",
   "id": "888b14a6",
   "metadata": {},
   "source": [
    "# Complete Pipeline"
   ]
  },
  {
   "cell_type": "code",
   "execution_count": 126,
   "id": "45d54edd",
   "metadata": {},
   "outputs": [
    {
     "name": "stdout",
     "output_type": "stream",
     "text": [
      "  0%|          | 0/16 [00:04<?, ?it/s]\n"
     ]
    },
    {
     "ename": "KeyboardInterrupt",
     "evalue": "",
     "output_type": "error",
     "traceback": [
      "\u001b[0;31m-----------------------------------------------------------\u001b[0m",
      "\u001b[0;31mKeyboardInterrupt\u001b[0m         Traceback (most recent call last)",
      "\u001b[0;32m<ipython-input-126-2aef29d07e3d>\u001b[0m in \u001b[0;36m<module>\u001b[0;34m\u001b[0m\n\u001b[1;32m     43\u001b[0m \u001b[0;34m\u001b[0m\u001b[0m\n\u001b[1;32m     44\u001b[0m         \u001b[0mpopulate_banned_movies\u001b[0m\u001b[0;34m(\u001b[0m\u001b[0mmovie_data_frame\u001b[0m\u001b[0;34m)\u001b[0m\u001b[0;34m\u001b[0m\u001b[0;34m\u001b[0m\u001b[0m\n\u001b[0;32m---> 45\u001b[0;31m         \u001b[0mwrite_ratings_ground_atoms_to_file_and_populate_rated_movies_and_users_rating_movies_arrays\u001b[0m\u001b[0;34m(\u001b[0m\u001b[0mratings_data_frame\u001b[0m\u001b[0;34m,\u001b[0m \u001b[0mfile\u001b[0m\u001b[0;34m)\u001b[0m\u001b[0;34m\u001b[0m\u001b[0;34m\u001b[0m\u001b[0m\n\u001b[0m\u001b[1;32m     46\u001b[0m         \u001b[0mwrite_movie_ground_atoms_to_file\u001b[0m\u001b[0;34m(\u001b[0m\u001b[0mmovie_data_frame\u001b[0m\u001b[0;34m,\u001b[0m \u001b[0mfile\u001b[0m\u001b[0;34m)\u001b[0m\u001b[0;34m\u001b[0m\u001b[0;34m\u001b[0m\u001b[0m\n\u001b[1;32m     47\u001b[0m         \u001b[0mwrite_user_ground_atoms_to_file\u001b[0m\u001b[0;34m(\u001b[0m\u001b[0muser_data_frame\u001b[0m\u001b[0;34m,\u001b[0m \u001b[0mfile\u001b[0m\u001b[0;34m)\u001b[0m\u001b[0;34m\u001b[0m\u001b[0;34m\u001b[0m\u001b[0m\n",
      "\u001b[0;32m<ipython-input-67-82797368acb5>\u001b[0m in \u001b[0;36mwrite_ratings_ground_atoms_to_file_and_populate_rated_movies_and_users_rating_movies_arrays\u001b[0;34m(data_frame, file)\u001b[0m\n\u001b[1;32m     38\u001b[0m \u001b[0;32mdef\u001b[0m \u001b[0mwrite_ratings_ground_atoms_to_file_and_populate_rated_movies_and_users_rating_movies_arrays\u001b[0m\u001b[0;34m(\u001b[0m\u001b[0mdata_frame\u001b[0m\u001b[0;34m,\u001b[0m \u001b[0mfile\u001b[0m\u001b[0;34m)\u001b[0m\u001b[0;34m:\u001b[0m\u001b[0;34m\u001b[0m\u001b[0;34m\u001b[0m\u001b[0m\n\u001b[1;32m     39\u001b[0m     \u001b[0mrating_number\u001b[0m \u001b[0;34m=\u001b[0m \u001b[0;36m0\u001b[0m\u001b[0;34m\u001b[0m\u001b[0;34m\u001b[0m\u001b[0m\n\u001b[0;32m---> 40\u001b[0;31m     \u001b[0;32mfor\u001b[0m \u001b[0mindex\u001b[0m\u001b[0;34m,\u001b[0m\u001b[0mrow\u001b[0m \u001b[0;32min\u001b[0m \u001b[0mdata_frame\u001b[0m\u001b[0;34m.\u001b[0m\u001b[0miterrows\u001b[0m\u001b[0;34m(\u001b[0m\u001b[0;34m)\u001b[0m\u001b[0;34m:\u001b[0m\u001b[0;34m\u001b[0m\u001b[0;34m\u001b[0m\u001b[0m\n\u001b[0m\u001b[1;32m     41\u001b[0m         \u001b[0;32mif\u001b[0m \u001b[0mrating_number\u001b[0m \u001b[0;34m<\u001b[0m \u001b[0mnumber_of_ratings\u001b[0m\u001b[0;34m:\u001b[0m\u001b[0;34m\u001b[0m\u001b[0;34m\u001b[0m\u001b[0m\n\u001b[1;32m     42\u001b[0m             \u001b[0mrating\u001b[0m \u001b[0;34m=\u001b[0m \u001b[0mrow\u001b[0m\u001b[0;34m[\u001b[0m\u001b[0;34m'Rating'\u001b[0m\u001b[0;34m]\u001b[0m\u001b[0;34m\u001b[0m\u001b[0;34m\u001b[0m\u001b[0m\n",
      "\u001b[0;32m~/.local/lib/python3.8/site-packages/pandas/core/frame.py\u001b[0m in \u001b[0;36miterrows\u001b[0;34m(self)\u001b[0m\n\u001b[1;32m   1012\u001b[0m         \u001b[0mklass\u001b[0m \u001b[0;34m=\u001b[0m \u001b[0mself\u001b[0m\u001b[0;34m.\u001b[0m\u001b[0m_constructor_sliced\u001b[0m\u001b[0;34m\u001b[0m\u001b[0;34m\u001b[0m\u001b[0m\n\u001b[1;32m   1013\u001b[0m         \u001b[0;32mfor\u001b[0m \u001b[0mk\u001b[0m\u001b[0;34m,\u001b[0m \u001b[0mv\u001b[0m \u001b[0;32min\u001b[0m \u001b[0mzip\u001b[0m\u001b[0;34m(\u001b[0m\u001b[0mself\u001b[0m\u001b[0;34m.\u001b[0m\u001b[0mindex\u001b[0m\u001b[0;34m,\u001b[0m \u001b[0mself\u001b[0m\u001b[0;34m.\u001b[0m\u001b[0mvalues\u001b[0m\u001b[0;34m)\u001b[0m\u001b[0;34m:\u001b[0m\u001b[0;34m\u001b[0m\u001b[0;34m\u001b[0m\u001b[0m\n\u001b[0;32m-> 1014\u001b[0;31m             \u001b[0ms\u001b[0m \u001b[0;34m=\u001b[0m \u001b[0mklass\u001b[0m\u001b[0;34m(\u001b[0m\u001b[0mv\u001b[0m\u001b[0;34m,\u001b[0m \u001b[0mindex\u001b[0m\u001b[0;34m=\u001b[0m\u001b[0mcolumns\u001b[0m\u001b[0;34m,\u001b[0m \u001b[0mname\u001b[0m\u001b[0;34m=\u001b[0m\u001b[0mk\u001b[0m\u001b[0;34m)\u001b[0m\u001b[0;34m\u001b[0m\u001b[0;34m\u001b[0m\u001b[0m\n\u001b[0m\u001b[1;32m   1015\u001b[0m             \u001b[0;32myield\u001b[0m \u001b[0mk\u001b[0m\u001b[0;34m,\u001b[0m \u001b[0ms\u001b[0m\u001b[0;34m\u001b[0m\u001b[0;34m\u001b[0m\u001b[0m\n\u001b[1;32m   1016\u001b[0m \u001b[0;34m\u001b[0m\u001b[0m\n",
      "\u001b[0;32m~/.local/lib/python3.8/site-packages/pandas/core/series.py\u001b[0m in \u001b[0;36m__init__\u001b[0;34m(self, data, index, dtype, name, copy, fastpath)\u001b[0m\n\u001b[1;32m    325\u001b[0m                     \u001b[0mdata\u001b[0m \u001b[0;34m=\u001b[0m \u001b[0mdata\u001b[0m\u001b[0;34m.\u001b[0m\u001b[0mcopy\u001b[0m\u001b[0;34m(\u001b[0m\u001b[0;34m)\u001b[0m\u001b[0;34m\u001b[0m\u001b[0;34m\u001b[0m\u001b[0m\n\u001b[1;32m    326\u001b[0m             \u001b[0;32melse\u001b[0m\u001b[0;34m:\u001b[0m\u001b[0;34m\u001b[0m\u001b[0;34m\u001b[0m\u001b[0m\n\u001b[0;32m--> 327\u001b[0;31m                 \u001b[0mdata\u001b[0m \u001b[0;34m=\u001b[0m \u001b[0msanitize_array\u001b[0m\u001b[0;34m(\u001b[0m\u001b[0mdata\u001b[0m\u001b[0;34m,\u001b[0m \u001b[0mindex\u001b[0m\u001b[0;34m,\u001b[0m \u001b[0mdtype\u001b[0m\u001b[0;34m,\u001b[0m \u001b[0mcopy\u001b[0m\u001b[0;34m,\u001b[0m \u001b[0mraise_cast_failure\u001b[0m\u001b[0;34m=\u001b[0m\u001b[0;32mTrue\u001b[0m\u001b[0;34m)\u001b[0m\u001b[0;34m\u001b[0m\u001b[0;34m\u001b[0m\u001b[0m\n\u001b[0m\u001b[1;32m    328\u001b[0m \u001b[0;34m\u001b[0m\u001b[0m\n\u001b[1;32m    329\u001b[0m                 \u001b[0mdata\u001b[0m \u001b[0;34m=\u001b[0m \u001b[0mSingleBlockManager\u001b[0m\u001b[0;34m.\u001b[0m\u001b[0mfrom_array\u001b[0m\u001b[0;34m(\u001b[0m\u001b[0mdata\u001b[0m\u001b[0;34m,\u001b[0m \u001b[0mindex\u001b[0m\u001b[0;34m)\u001b[0m\u001b[0;34m\u001b[0m\u001b[0;34m\u001b[0m\u001b[0m\n",
      "\u001b[0;32m~/.local/lib/python3.8/site-packages/pandas/core/construction.py\u001b[0m in \u001b[0;36msanitize_array\u001b[0;34m(data, index, dtype, copy, raise_cast_failure)\u001b[0m\n\u001b[1;32m    426\u001b[0m         \u001b[0;32melse\u001b[0m\u001b[0;34m:\u001b[0m\u001b[0;34m\u001b[0m\u001b[0;34m\u001b[0m\u001b[0m\n\u001b[1;32m    427\u001b[0m             \u001b[0;31m# we will try to copy be-definition here\u001b[0m\u001b[0;34m\u001b[0m\u001b[0;34m\u001b[0m\u001b[0;34m\u001b[0m\u001b[0m\n\u001b[0;32m--> 428\u001b[0;31m             \u001b[0msubarr\u001b[0m \u001b[0;34m=\u001b[0m \u001b[0m_try_cast\u001b[0m\u001b[0;34m(\u001b[0m\u001b[0mdata\u001b[0m\u001b[0;34m,\u001b[0m \u001b[0mdtype\u001b[0m\u001b[0;34m,\u001b[0m \u001b[0mcopy\u001b[0m\u001b[0;34m,\u001b[0m \u001b[0mraise_cast_failure\u001b[0m\u001b[0;34m)\u001b[0m\u001b[0;34m\u001b[0m\u001b[0;34m\u001b[0m\u001b[0m\n\u001b[0m\u001b[1;32m    429\u001b[0m \u001b[0;34m\u001b[0m\u001b[0m\n\u001b[1;32m    430\u001b[0m     \u001b[0;32melif\u001b[0m \u001b[0misinstance\u001b[0m\u001b[0;34m(\u001b[0m\u001b[0mdata\u001b[0m\u001b[0;34m,\u001b[0m \u001b[0mABCExtensionArray\u001b[0m\u001b[0;34m)\u001b[0m\u001b[0;34m:\u001b[0m\u001b[0;34m\u001b[0m\u001b[0;34m\u001b[0m\u001b[0m\n",
      "\u001b[0;32m~/.local/lib/python3.8/site-packages/pandas/core/construction.py\u001b[0m in \u001b[0;36m_try_cast\u001b[0;34m(arr, dtype, copy, raise_cast_failure)\u001b[0m\n\u001b[1;32m    566\u001b[0m             \u001b[0msubarr\u001b[0m \u001b[0;34m=\u001b[0m \u001b[0mconstruct_1d_object_array_from_listlike\u001b[0m\u001b[0;34m(\u001b[0m\u001b[0msubarr\u001b[0m\u001b[0;34m)\u001b[0m\u001b[0;34m\u001b[0m\u001b[0;34m\u001b[0m\u001b[0m\n\u001b[1;32m    567\u001b[0m         \u001b[0;32melif\u001b[0m \u001b[0;32mnot\u001b[0m \u001b[0mis_extension_array_dtype\u001b[0m\u001b[0;34m(\u001b[0m\u001b[0msubarr\u001b[0m\u001b[0;34m)\u001b[0m\u001b[0;34m:\u001b[0m\u001b[0;34m\u001b[0m\u001b[0;34m\u001b[0m\u001b[0m\n\u001b[0;32m--> 568\u001b[0;31m             \u001b[0msubarr\u001b[0m \u001b[0;34m=\u001b[0m \u001b[0mconstruct_1d_ndarray_preserving_na\u001b[0m\u001b[0;34m(\u001b[0m\u001b[0msubarr\u001b[0m\u001b[0;34m,\u001b[0m \u001b[0mdtype\u001b[0m\u001b[0;34m,\u001b[0m \u001b[0mcopy\u001b[0m\u001b[0;34m=\u001b[0m\u001b[0mcopy\u001b[0m\u001b[0;34m)\u001b[0m\u001b[0;34m\u001b[0m\u001b[0;34m\u001b[0m\u001b[0m\n\u001b[0m\u001b[1;32m    569\u001b[0m     \u001b[0;32mexcept\u001b[0m \u001b[0mOutOfBoundsDatetime\u001b[0m\u001b[0;34m:\u001b[0m\u001b[0;34m\u001b[0m\u001b[0;34m\u001b[0m\u001b[0m\n\u001b[1;32m    570\u001b[0m         \u001b[0;31m# in case of out of bound datetime64 -> always raise\u001b[0m\u001b[0;34m\u001b[0m\u001b[0;34m\u001b[0m\u001b[0;34m\u001b[0m\u001b[0m\n",
      "\u001b[0;32m~/.local/lib/python3.8/site-packages/pandas/core/dtypes/cast.py\u001b[0m in \u001b[0;36mconstruct_1d_ndarray_preserving_na\u001b[0;34m(values, dtype, copy)\u001b[0m\n\u001b[1;32m   1621\u001b[0m         \u001b[0msubarr\u001b[0m \u001b[0;34m=\u001b[0m \u001b[0mlib\u001b[0m\u001b[0;34m.\u001b[0m\u001b[0mensure_string_array\u001b[0m\u001b[0;34m(\u001b[0m\u001b[0mvalues\u001b[0m\u001b[0;34m,\u001b[0m \u001b[0mconvert_na_value\u001b[0m\u001b[0;34m=\u001b[0m\u001b[0;32mFalse\u001b[0m\u001b[0;34m,\u001b[0m \u001b[0mcopy\u001b[0m\u001b[0;34m=\u001b[0m\u001b[0mcopy\u001b[0m\u001b[0;34m)\u001b[0m\u001b[0;34m\u001b[0m\u001b[0;34m\u001b[0m\u001b[0m\n\u001b[1;32m   1622\u001b[0m     \u001b[0;32melse\u001b[0m\u001b[0;34m:\u001b[0m\u001b[0;34m\u001b[0m\u001b[0;34m\u001b[0m\u001b[0m\n\u001b[0;32m-> 1623\u001b[0;31m         \u001b[0msubarr\u001b[0m \u001b[0;34m=\u001b[0m \u001b[0mnp\u001b[0m\u001b[0;34m.\u001b[0m\u001b[0marray\u001b[0m\u001b[0;34m(\u001b[0m\u001b[0mvalues\u001b[0m\u001b[0;34m,\u001b[0m \u001b[0mdtype\u001b[0m\u001b[0;34m=\u001b[0m\u001b[0mdtype\u001b[0m\u001b[0;34m,\u001b[0m \u001b[0mcopy\u001b[0m\u001b[0;34m=\u001b[0m\u001b[0mcopy\u001b[0m\u001b[0;34m)\u001b[0m\u001b[0;34m\u001b[0m\u001b[0;34m\u001b[0m\u001b[0m\n\u001b[0m\u001b[1;32m   1624\u001b[0m \u001b[0;34m\u001b[0m\u001b[0m\n\u001b[1;32m   1625\u001b[0m     \u001b[0;32mreturn\u001b[0m \u001b[0msubarr\u001b[0m\u001b[0;34m\u001b[0m\u001b[0;34m\u001b[0m\u001b[0m\n",
      "\u001b[0;31mKeyboardInterrupt\u001b[0m: "
     ]
    }
   ],
   "source": [
    "import itertools\n",
    "import sys\n",
    "\n",
    "def get_info_and_type_files(restrict_genres, alternative_predicate_types):\n",
    "    if alternative_predicate_types:\n",
    "        return 'MovieLens_alternative.info', 'MovieLens_alternative.type'\n",
    "    else:\n",
    "        if restrict_genres:\n",
    "            return 'MovieLens_restricted_genres.info', 'MovieLens.type'\n",
    "        else:\n",
    "            return 'MovieLens.info', 'MovieLens.type'\n",
    "\n",
    "log_file = 'MovieLens_StructureLearning.log'\n",
    "\n",
    "database_file_name = 'MovieLensMini.db'\n",
    "database_file = os.path.join(THIS_FOLDER, database_file_name)\n",
    "\n",
    "num_age_categories_list =  [2,3]                                               \n",
    "num_rating_categories_list = [2,3]                                               \n",
    "restrict_genres_list = [True, False]                                                  \n",
    "alternative_predicate_types_list = [True, False]                                                                       \n",
    "number_of_ratings_list = [100]  \n",
    "\n",
    "hyperparameters = itertools.product(num_age_categories_list, num_rating_categories_list, restrict_genres_list, alternative_predicate_types_list, number_of_ratings_list)\n",
    "number_of_params = len(num_age_categories_list)*len(num_rating_categories_list)*len(restrict_genres_list)*len(alternative_predicate_types_list)*len(number_of_ratings_list)\n",
    "\n",
    "with tqdm(total = number_of_params, file=sys.stdout) as pbar:\n",
    "    for hyperparameter_setting in hyperparameters:\n",
    "        databaseObj = pd.DataFrame(columns=['predicate', 'arguments'])\n",
    "        \n",
    "        banned_movies = set()\n",
    "        rated_movies = []\n",
    "        users_rating_movies = []\n",
    "        file = open(database_file, 'w')\n",
    "        \n",
    "        num_age_categories = hyperparameter_setting[0]\n",
    "        num_rating_categories = hyperparameter_setting[1]    \n",
    "        restrict_genres = hyperparameter_setting[2]    \n",
    "        alternative_predicate_types = hyperparameter_setting[3]    \n",
    "        number_of_ratings = hyperparameter_setting[4]  \n",
    "        \n",
    "        info_file, type_file = get_info_and_type_files(restrict_genres, alternative_predicate_types)\n",
    "        \n",
    "        populate_banned_movies(movie_data_frame)\n",
    "        write_ratings_ground_atoms_to_file_and_populate_rated_movies_and_users_rating_movies_arrays(ratings_data_frame, file)\n",
    "        write_movie_ground_atoms_to_file(movie_data_frame, file)\n",
    "        write_user_ground_atoms_to_file(user_data_frame, file)\n",
    "        structure_learn(info_file, type_file)\n",
    "        print_MLN(log_file, info_file, type_file)\n",
    "        \n",
    "        pbar.update(1)"
   ]
  },
  {
   "cell_type": "code",
   "execution_count": 135,
   "id": "cbe00463",
   "metadata": {},
   "outputs": [
    {
     "data": {
      "text/html": [
       "<div>\n",
       "<style scoped>\n",
       "    .dataframe tbody tr th:only-of-type {\n",
       "        vertical-align: middle;\n",
       "    }\n",
       "\n",
       "    .dataframe tbody tr th {\n",
       "        vertical-align: top;\n",
       "    }\n",
       "\n",
       "    .dataframe thead th {\n",
       "        text-align: right;\n",
       "    }\n",
       "</style>\n",
       "<table border=\"1\" class=\"dataframe\">\n",
       "  <thead>\n",
       "    <tr style=\"text-align: right;\">\n",
       "      <th></th>\n",
       "      <th>predicate</th>\n",
       "      <th>arguments</th>\n",
       "    </tr>\n",
       "  </thead>\n",
       "  <tbody>\n",
       "    <tr>\n",
       "      <th>0</th>\n",
       "      <td>Rating</td>\n",
       "      <td>U551,M1748,Positive</td>\n",
       "    </tr>\n",
       "    <tr>\n",
       "      <th>1</th>\n",
       "      <td>Rating</td>\n",
       "      <td>U4789,M110,Indifferent</td>\n",
       "    </tr>\n",
       "    <tr>\n",
       "      <th>2</th>\n",
       "      <td>Rating</td>\n",
       "      <td>U4258,M517,Indifferent</td>\n",
       "    </tr>\n",
       "    <tr>\n",
       "      <th>3</th>\n",
       "      <td>Rating</td>\n",
       "      <td>U4819,M2794,Indifferent</td>\n",
       "    </tr>\n",
       "    <tr>\n",
       "      <th>4</th>\n",
       "      <td>Rating</td>\n",
       "      <td>U3605,M2502,Positive</td>\n",
       "    </tr>\n",
       "    <tr>\n",
       "      <th>...</th>\n",
       "      <td>...</td>\n",
       "      <td>...</td>\n",
       "    </tr>\n",
       "    <tr>\n",
       "      <th>1193</th>\n",
       "      <td>Youthful</td>\n",
       "      <td>U5530</td>\n",
       "    </tr>\n",
       "    <tr>\n",
       "      <th>1194</th>\n",
       "      <td>Male</td>\n",
       "      <td>U2225</td>\n",
       "    </tr>\n",
       "    <tr>\n",
       "      <th>1195</th>\n",
       "      <td>Youthful</td>\n",
       "      <td>U2225</td>\n",
       "    </tr>\n",
       "    <tr>\n",
       "      <th>1196</th>\n",
       "      <td>Male</td>\n",
       "      <td>U869</td>\n",
       "    </tr>\n",
       "    <tr>\n",
       "      <th>1197</th>\n",
       "      <td>Youthful</td>\n",
       "      <td>U869</td>\n",
       "    </tr>\n",
       "  </tbody>\n",
       "</table>\n",
       "<p>1198 rows × 2 columns</p>\n",
       "</div>"
      ],
      "text/plain": [
       "     predicate                arguments\n",
       "0       Rating      U551,M1748,Positive\n",
       "1       Rating   U4789,M110,Indifferent\n",
       "2       Rating   U4258,M517,Indifferent\n",
       "3       Rating  U4819,M2794,Indifferent\n",
       "4       Rating     U3605,M2502,Positive\n",
       "...        ...                      ...\n",
       "1193  Youthful                    U5530\n",
       "1194      Male                    U2225\n",
       "1195  Youthful                    U2225\n",
       "1196      Male                     U869\n",
       "1197  Youthful                     U869\n",
       "\n",
       "[1198 rows x 2 columns]"
      ]
     },
     "metadata": {},
     "output_type": "display_data"
    },
    {
     "name": "stdout",
     "output_type": "stream",
     "text": [
      "movie\n",
      "\n",
      "user\n",
      "\n",
      "rating\n",
      "\n",
      "what\n"
     ]
    }
   ],
   "source": [
    "databaseObj = pd.DataFrame(columns=['predicate', 'arguments'])\n",
    "\n",
    "banned_movies = set()\n",
    "rated_movies = []\n",
    "users_rating_movies = []\n",
    "with open(database_file, 'w') as file:\n",
    "    num_age_categories = 3\n",
    "    num_rating_categories = 3   \n",
    "    restrict_genres = False  \n",
    "    alternative_predicate_types = False  \n",
    "    number_of_ratings = 250\n",
    "\n",
    "    info_file, type_file = get_info_and_type_files(restrict_genres, alternative_predicate_types)\n",
    "\n",
    "    populate_banned_movies(movie_data_frame)\n",
    "    write_ratings_ground_atoms_to_file_and_populate_rated_movies_and_users_rating_movies_arrays(ratings_data_frame, file)\n",
    "    write_movie_ground_atoms_to_file(movie_data_frame, file)\n",
    "    write_user_ground_atoms_to_file(user_data_frame, file)\n",
    "    display(databaseObj)\n",
    "    structure_learn(info_file, type_file)\n",
    "    print_MLN(log_file, info_file, type_file)"
   ]
  },
  {
   "cell_type": "code",
   "execution_count": 131,
   "id": "be099d64",
   "metadata": {},
   "outputs": [
    {
     "name": "stdout",
     "output_type": "stream",
     "text": [
      "MovieLens.info\n",
      "movie\n",
      "\n",
      "user\n",
      "\n",
      "rating\n",
      "\n"
     ]
    }
   ],
   "source": []
  },
  {
   "cell_type": "code",
   "execution_count": null,
   "id": "ce3d0f00",
   "metadata": {},
   "outputs": [],
   "source": []
  }
 ],
 "metadata": {
  "kernelspec": {
   "display_name": "Python 3",
   "language": "python",
   "name": "python3"
  },
  "language_info": {
   "codemirror_mode": {
    "name": "ipython",
    "version": 3
   },
   "file_extension": ".py",
   "mimetype": "text/x-python",
   "name": "python",
   "nbconvert_exporter": "python",
   "pygments_lexer": "ipython3",
   "version": "3.8.5"
  }
 },
 "nbformat": 4,
 "nbformat_minor": 5
}
