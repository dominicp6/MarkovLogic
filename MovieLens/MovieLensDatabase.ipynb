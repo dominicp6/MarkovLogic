{
 "cells": [
  {
   "cell_type": "markdown",
   "id": "123cff9f",
   "metadata": {},
   "source": [
    "# MovieLens Database"
   ]
  },
  {
   "cell_type": "markdown",
   "id": "35c72892",
   "metadata": {},
   "source": [
    "ReadME notes here"
   ]
  },
  {
   "cell_type": "code",
   "execution_count": 2,
   "id": "c2916814",
   "metadata": {},
   "outputs": [],
   "source": [
    "import os\n",
    "import pandas as pd\n",
    "from tqdm import tqdm\n",
    "import subprocess\n",
    "\n",
    "NUMBER_USERS = 6040\n",
    "NUMBER_MOVIES = 3952\n",
    "THIS_FOLDER = os.getcwd()"
   ]
  },
  {
   "cell_type": "markdown",
   "id": "0f380217",
   "metadata": {},
   "source": [
    "### 1) Import Dataframes"
   ]
  },
  {
   "cell_type": "code",
   "execution_count": 3,
   "id": "9bd3a0d9",
   "metadata": {},
   "outputs": [
    {
     "name": "stdout",
     "output_type": "stream",
     "text": [
      "Importing files...\n",
      "Done!\n"
     ]
    }
   ],
   "source": [
    "def read_movies_file(file_name):\n",
    "    DataFrame = pd.read_csv(file_name, delimiter='::', names=['MovieID', 'MovieTitle', 'MovieGenres'], engine='python')\n",
    "    return DataFrame \n",
    "\n",
    "def read_users_file(file_name):\n",
    "    DataFrame = pd.read_csv(file_name, delimiter='::', names=['UserID', 'Gender', 'Age', 'Occupation', 'ZipCode'], engine='python')\n",
    "    return DataFrame\n",
    "\n",
    "def read_ratings_file(file_name):\n",
    "    DataFrame = pd.read_csv(file_name, delimiter='::', names=['UserID', 'MovieID', 'Rating', 'Timestamp'], engine='python')\n",
    "    return DataFrame \n",
    "\n",
    "def import_data(directory):\n",
    "    movies_file = os.path.join(directory, 'movies.dat')\n",
    "    users_file = os.path.join(directory, 'users.dat')\n",
    "    ratings_file = os.path.join(directory, 'ratings.dat')\n",
    "\n",
    "    movie_data_frame = read_movies_file(movies_file)\n",
    "    user_data_frame = read_users_file(users_file)\n",
    "    ratings_data_frame = read_ratings_file(ratings_file)\n",
    "\n",
    "    return movie_data_frame, user_data_frame, ratings_data_frame\n",
    "\n",
    "def shuffle_data_frame(data_frame, seed):\n",
    "    pass\n",
    "\n",
    "print('Importing files...')\n",
    "movie_data_frame, user_data_frame, ratings_data_frame = import_data(THIS_FOLDER)\n",
    "\n",
    "#Shuffle the dataframes\n",
    "movie_data_frame = movie_data_frame.sample(frac=1)\n",
    "user_data_frame = user_data_frame.sample(frac=1)\n",
    "ratings_data_frame = ratings_data_frame.sample(frac=1)\n",
    "print('Done!')"
   ]
  },
  {
   "cell_type": "markdown",
   "id": "420459fd",
   "metadata": {},
   "source": [
    "### 2) Settings"
   ]
  },
  {
   "cell_type": "code",
   "execution_count": 4,
   "id": "3014c4b3",
   "metadata": {},
   "outputs": [],
   "source": [
    "num_age_categories =  2                                                 #either 2 or 3\n",
    "num_rating_categories = 2                                               #either 2 or 3\n",
    "restrict_genres = True                                                  #if True then only allow movies of restricted genre\n",
    "restricted_genres = ['Romance', 'Horror', 'Animation', 'Documentary']   \n",
    "alternative_predicate_types = True                                      #if True then Gender(user, gender) instead of Male(user), Female(user) etc\n",
    "                                                                        #similarly for user age and for movie genre\n",
    "number_of_ratings = 1000                                                #integer less than 1000210\n",
    "database_file_name = 'MovieLensMini.db'\n",
    "databaseObj = pd.DataFrame(columns=['predicate', 'arguments'])\n",
    "\n",
    "database_file = os.path.join(THIS_FOLDER, database_file_name)"
   ]
  },
  {
   "cell_type": "markdown",
   "id": "5ed93220",
   "metadata": {},
   "source": [
    "### 3) Populate Banned Movies (if restricting genres)"
   ]
  },
  {
   "cell_type": "code",
   "execution_count": 5,
   "id": "47766a05",
   "metadata": {},
   "outputs": [
    {
     "name": "stdout",
     "output_type": "stream",
     "text": [
      "Constructing banned movie set...\n",
      "Done!\n"
     ]
    }
   ],
   "source": [
    "def write_movie_genre_predicate_to_file(genre, movieID, file, suppress_output):\n",
    "    global databaseObj\n",
    "    if not suppress_output and movieID in rated_movies:\n",
    "        file.write(f\"{genre}(M{movieID})\\n\")\n",
    "        databaseObj = databaseObj.append({'predicate':genre, 'arguments':f\"M{movieID}\"}, ignore_index=True)\n",
    "\n",
    "def write_movie_to_file(row, file, suppress_output):\n",
    "    movies_added = 0\n",
    "    movieID = row['MovieID']\n",
    "    genres = row['MovieGenres'].split('|')\n",
    "    for genre in genres:\n",
    "        if restrict_genres:\n",
    "            if genre in restricted_genres:\n",
    "                write_movie_genre_predicate_to_file(genre, movieID, file, suppress_output)\n",
    "                movies_added = 1\n",
    "            else:\n",
    "                banned_movies.add(movieID)\n",
    "        else:\n",
    "            write_movie_genre_predicate_to_file(genre, movieID, file, suppress_output)\n",
    "    \n",
    "    return movies_added\n",
    "\n",
    "def write_movie_ground_atoms_to_file(data_frame, file, suppress_output = False):\n",
    "    number_of_movies = 0\n",
    "    for index,row in data_frame.iterrows():\n",
    "        movies_added = write_movie_to_file(row, file, suppress_output)\n",
    "        number_of_movies += movies_added\n",
    "                \n",
    "def populate_banned_movies(data_frame):\n",
    "    write_movie_ground_atoms_to_file(data_frame, None, suppress_output = True)\n",
    "    \n",
    "\n",
    "print('Constructing banned movie set...')\n",
    "banned_movies = set()\n",
    "populate_banned_movies(movie_data_frame)\n",
    "print('Done!')"
   ]
  },
  {
   "cell_type": "markdown",
   "id": "1334cda8",
   "metadata": {},
   "source": [
    "### 4) Getting Ratings Ground Atoms"
   ]
  },
  {
   "cell_type": "code",
   "execution_count": 6,
   "id": "6480cb89",
   "metadata": {},
   "outputs": [
    {
     "name": "stdout",
     "output_type": "stream",
     "text": [
      "Getting ratings ground atoms...\n",
      "Done!\n"
     ]
    }
   ],
   "source": [
    "rated_movies = []\n",
    "users_rating_movies = []\n",
    "file = open(database_file, 'w')\n",
    "\n",
    "def write_rating_predicate_to_file(rating, row, file):\n",
    "    global databaseObj\n",
    "    if num_rating_categories == 3:\n",
    "        if rating >=4:\n",
    "            rating = 'Likes'\n",
    "        elif rating == 3:\n",
    "            rating = 'Indifferent'\n",
    "        elif rating <= 2:\n",
    "            rating = 'Dislikes'\n",
    "    elif num_rating_categories == 2:\n",
    "        if rating >=4:\n",
    "            rating = 'Likes'\n",
    "        else:\n",
    "            rating = 'Dislikes'\n",
    "    else:\n",
    "        raise ValueError('number_of_rating_categories ({}) not supported'.format(num_rating_categories))\n",
    "    if restrict_genres:\n",
    "        if row['MovieID'] not in banned_movies:\n",
    "            rated_movies.append(row['MovieID'])\n",
    "            users_rating_movies.append(row['UserID'])\n",
    "            file.write(f\"{rating}(U{row['UserID']},M{row['MovieID']})\\n\")\n",
    "            databaseObj = databaseObj.append({'predicate':rating, 'arguments':f\"U{row['UserID']},M{row['MovieID']}\"}, ignore_index=True)\n",
    "            return 1\n",
    "        else:\n",
    "            return 0\n",
    "    else:\n",
    "        rated_movies.append(row['MovieID'])\n",
    "        users_rating_movies.append(row['UserID'])\n",
    "        file.write(f\"{rating}(U{row['UserID']},M{row['MovieID']})\\n\")\n",
    "        databaseObj = databaseObj.append({'predicate':rating, 'arguments':f\"U{row['UserID']},M{row['MovieID']}\"}, ignore_index=True)\n",
    "        return 1\n",
    "\n",
    "def write_ratings_ground_atoms_to_file_and_populate_rated_movies_and_users_rating_movies_arrays(data_frame, file):\n",
    "    rating_number = 0\n",
    "    for index,row in data_frame.iterrows():\n",
    "        if rating_number < number_of_ratings:\n",
    "            rating = row['Rating']\n",
    "            rating_obtained = write_rating_predicate_to_file(rating, row, file)\n",
    "            rating_number += rating_obtained\n",
    "        else:\n",
    "            break\n",
    "\n",
    "print('Getting ratings ground atoms...')\n",
    "write_ratings_ground_atoms_to_file_and_populate_rated_movies_and_users_rating_movies_arrays(ratings_data_frame, file)\n",
    "print('Done!')"
   ]
  },
  {
   "cell_type": "markdown",
   "id": "fe2c069d",
   "metadata": {},
   "source": [
    "### 5) Get Movie Ground Atoms"
   ]
  },
  {
   "cell_type": "code",
   "execution_count": 7,
   "id": "4fe2f0c5",
   "metadata": {},
   "outputs": [
    {
     "name": "stdout",
     "output_type": "stream",
     "text": [
      "Getting movie ground atoms...\n",
      "Done!\n"
     ]
    }
   ],
   "source": [
    "print('Getting movie ground atoms...')\n",
    "write_movie_ground_atoms_to_file(movie_data_frame, file)\n",
    "print('Done!')"
   ]
  },
  {
   "cell_type": "markdown",
   "id": "57125c79",
   "metadata": {},
   "source": [
    "### 6) Get User Ground Atoms"
   ]
  },
  {
   "cell_type": "code",
   "execution_count": 8,
   "id": "d56c799e",
   "metadata": {},
   "outputs": [
    {
     "name": "stdout",
     "output_type": "stream",
     "text": [
      "Getting user ground atoms...\n",
      "Done!\n"
     ]
    }
   ],
   "source": [
    "def write_user_gender_predicate_to_file(gender, userID, file):\n",
    "    global databaseObj\n",
    "    male = \"M\"\n",
    "    female = \"F\"\n",
    "    if gender == male:\n",
    "        file.write(f\"Male(U{userID})\\n\")\n",
    "        databaseObj = databaseObj.append({'predicate':'Male', 'arguments':f\"U{userID}\"}, ignore_index=True)\n",
    "    elif gender == female:\n",
    "        pass\n",
    "        #file.write(f\"Female(U{userID})\\n\")\n",
    "        #databaseObj = databaseObj.append({'predicate':'Female', 'arguments':f\"U{userID}\"}, ignore_index=True)\n",
    "            \n",
    "def write_user_age_predicate_to_file(age, userID, file):\n",
    "    global databaseObj\n",
    "    if num_age_categories == 3:\n",
    "        if age in [1, 18, 25]:\n",
    "            file.write(f\"Young(U{userID})\\n\")\n",
    "            databaseObj = databaseObj.append({'predicate':'Youthful', 'arguments':f\"U{userID}\"}, ignore_index=True)  \n",
    "        elif age in [35, 45, 50]:\n",
    "            file.write(f\"MiddleAged(U{userID})\\n\")\n",
    "            databaseObj = databaseObj.append({'predicate':'MiddleAged', 'arguments':f\"U{userID}\"}, ignore_index=True)  \n",
    "        elif age == 56:\n",
    "            file.write(f\"Old(U{userID})\\n\")\n",
    "            databaseObj = databaseObj.append({'predicate':'Old', 'arguments':f\"U{userID}\"}, ignore_index=True)  \n",
    "    elif num_age_categories == 2:\n",
    "        if age in [1, 18, 25, 35]:\n",
    "            file.write(f\"Young(U{userID})\\n\")\n",
    "            databaseObj = databaseObj.append({'predicate':'Young', 'arguments':f\"U{userID}\"}, ignore_index=True)  \n",
    "        elif age in [45, 50, 56]:\n",
    "            pass\n",
    "            #file.write(f\"Old(U{userID})\\n\")\n",
    "            #databaseObj = databaseObj.append({'predicate':'Old', 'arguments':f\"U{userID}\"}, ignore_index=True)  \n",
    "    else:\n",
    "        raise ValueError('number_of_age_categories ({}) not supported'.format(num_age_categories))\n",
    "\n",
    "def write_user_ground_atoms_to_file(data_frame, file):\n",
    "    for index,row in data_frame.iterrows():\n",
    "        gender = row['Gender']\n",
    "        age = row['Age']\n",
    "        userID = row['UserID']\n",
    "        if userID in users_rating_movies:\n",
    "            write_user_gender_predicate_to_file(gender, userID, file)\n",
    "            write_user_age_predicate_to_file(age, userID, file)\n",
    "\n",
    "print('Getting user ground atoms...')\n",
    "write_user_ground_atoms_to_file(user_data_frame, file)\n",
    "print('Done!')"
   ]
  },
  {
   "cell_type": "markdown",
   "id": "e0a4e46e",
   "metadata": {},
   "source": [
    "### 7) Preview Database"
   ]
  },
  {
   "cell_type": "code",
   "execution_count": 9,
   "id": "408cc6d9",
   "metadata": {},
   "outputs": [
    {
     "data": {
      "text/html": [
       "<div>\n",
       "<style scoped>\n",
       "    .dataframe tbody tr th:only-of-type {\n",
       "        vertical-align: middle;\n",
       "    }\n",
       "\n",
       "    .dataframe tbody tr th {\n",
       "        vertical-align: top;\n",
       "    }\n",
       "\n",
       "    .dataframe thead th {\n",
       "        text-align: right;\n",
       "    }\n",
       "</style>\n",
       "<table border=\"1\" class=\"dataframe\">\n",
       "  <thead>\n",
       "    <tr style=\"text-align: right;\">\n",
       "      <th></th>\n",
       "      <th>predicate</th>\n",
       "      <th>arguments</th>\n",
       "    </tr>\n",
       "  </thead>\n",
       "  <tbody>\n",
       "    <tr>\n",
       "      <th>0</th>\n",
       "      <td>Dislikes</td>\n",
       "      <td>U3280,M1191</td>\n",
       "    </tr>\n",
       "    <tr>\n",
       "      <th>1</th>\n",
       "      <td>Dislikes</td>\n",
       "      <td>U4169,M1666</td>\n",
       "    </tr>\n",
       "    <tr>\n",
       "      <th>2</th>\n",
       "      <td>Likes</td>\n",
       "      <td>U5551,M1345</td>\n",
       "    </tr>\n",
       "    <tr>\n",
       "      <th>3</th>\n",
       "      <td>Likes</td>\n",
       "      <td>U1611,M1975</td>\n",
       "    </tr>\n",
       "    <tr>\n",
       "      <th>4</th>\n",
       "      <td>Dislikes</td>\n",
       "      <td>U278,M1971</td>\n",
       "    </tr>\n",
       "    <tr>\n",
       "      <th>...</th>\n",
       "      <td>...</td>\n",
       "      <td>...</td>\n",
       "    </tr>\n",
       "    <tr>\n",
       "      <th>2379</th>\n",
       "      <td>Male</td>\n",
       "      <td>U839</td>\n",
       "    </tr>\n",
       "    <tr>\n",
       "      <th>2380</th>\n",
       "      <td>Young</td>\n",
       "      <td>U839</td>\n",
       "    </tr>\n",
       "    <tr>\n",
       "      <th>2381</th>\n",
       "      <td>Male</td>\n",
       "      <td>U4067</td>\n",
       "    </tr>\n",
       "    <tr>\n",
       "      <th>2382</th>\n",
       "      <td>Male</td>\n",
       "      <td>U173</td>\n",
       "    </tr>\n",
       "    <tr>\n",
       "      <th>2383</th>\n",
       "      <td>Young</td>\n",
       "      <td>U173</td>\n",
       "    </tr>\n",
       "  </tbody>\n",
       "</table>\n",
       "<p>2384 rows × 2 columns</p>\n",
       "</div>"
      ],
      "text/plain": [
       "     predicate    arguments\n",
       "0     Dislikes  U3280,M1191\n",
       "1     Dislikes  U4169,M1666\n",
       "2        Likes  U5551,M1345\n",
       "3        Likes  U1611,M1975\n",
       "4     Dislikes   U278,M1971\n",
       "...        ...          ...\n",
       "2379      Male         U839\n",
       "2380     Young         U839\n",
       "2381      Male        U4067\n",
       "2382      Male         U173\n",
       "2383     Young         U173\n",
       "\n",
       "[2384 rows x 2 columns]"
      ]
     },
     "metadata": {},
     "output_type": "display_data"
    }
   ],
   "source": [
    "display(databaseObj)"
   ]
  },
  {
   "cell_type": "markdown",
   "id": "bc7a589f",
   "metadata": {},
   "source": [
    "### 8) Structure Learning"
   ]
  },
  {
   "cell_type": "code",
   "execution_count": 10,
   "id": "065f5221",
   "metadata": {},
   "outputs": [
    {
     "name": "stdout",
     "output_type": "stream",
     "text": [
      "Structure learning...\n"
     ]
    },
    {
     "ename": "NameError",
     "evalue": "name 'info_file' is not defined",
     "output_type": "error",
     "traceback": [
      "\u001b[0;31m--------------------------------\u001b[0m",
      "\u001b[0;31mNameError\u001b[0mTraceback (most recent call last)",
      "\u001b[0;32m<ipython-input-10-b017b6b4c034>\u001b[0m in \u001b[0;36m<module>\u001b[0;34m\u001b[0m\n\u001b[1;32m     46\u001b[0m \u001b[0;34m\u001b[0m\u001b[0m\n\u001b[1;32m     47\u001b[0m \u001b[0mprint\u001b[0m\u001b[0;34m(\u001b[0m\u001b[0;34m'Structure learning...'\u001b[0m\u001b[0;34m)\u001b[0m\u001b[0;34m\u001b[0m\u001b[0;34m\u001b[0m\u001b[0m\n\u001b[0;32m---> 48\u001b[0;31m \u001b[0mstructure_learn\u001b[0m\u001b[0;34m(\u001b[0m\u001b[0minfo_file\u001b[0m\u001b[0;34m,\u001b[0m \u001b[0mtype_file\u001b[0m\u001b[0;34m)\u001b[0m\u001b[0;34m\u001b[0m\u001b[0;34m\u001b[0m\u001b[0m\n\u001b[0m\u001b[1;32m     49\u001b[0m \u001b[0mprint\u001b[0m\u001b[0;34m(\u001b[0m\u001b[0;34m'Done!'\u001b[0m\u001b[0;34m)\u001b[0m\u001b[0;34m\u001b[0m\u001b[0;34m\u001b[0m\u001b[0m\n",
      "\u001b[0;31mNameError\u001b[0m: name 'info_file' is not defined"
     ]
    }
   ],
   "source": [
    "save_file_name = database_file_name.rstrip('.db')\n",
    "LSM_DIR = '/home/domphillips/MarkovLogic/lsmcode'\n",
    "DATA_DIR = '/home/domphillips/MarkovLogic/MarkovLogicProject/MovieLens'\n",
    "MLN_DIR = '/home/domphillips/MarkovLogic/MarkovLogicProject/MovieLens/MLNs'\n",
    "\n",
    "def structure_learn(info_file, type_file):\n",
    "    structure_learn_MLN_command = f\"./learnMLN.sh {save_file_name} {database_file_name} {info_file} {type_file} {LSM_DIR} {DATA_DIR} {MLN_DIR}\"\n",
    "    subprocess.call(structure_learn_MLN_command,shell=True)\n",
    "\n",
    "def print_MLN(log_file_name, info_file, type_file):\n",
    "    with open(os.path.join(os.getcwd(), log_file_name), \"a\") as log_file:\n",
    "        log_file.write(f'============================================================================================\\n')\n",
    "        log_file.write(f'------------ CONFIG ------------\\n')\n",
    "        log_file.write(f'num_age_categories : {num_age_categories}\\n')\n",
    "        log_file.write(f'num_rating_categories : {num_rating_categories}\\n')\n",
    "        log_file.write(f'restrict_genres : {restrict_genres}\\n')\n",
    "        if restrict_genres:\n",
    "            log_file.write(f'restricted_genres : {restricted_genres}\\n')\n",
    "        log_file.write(f'remove_redundant_binary_predicate : True\\n')\n",
    "        log_file.write(f'number_of_ratings : {number_of_ratings}\\n')\n",
    "        log_file.write('\\n')\n",
    "        log_file.write(f'database size: {len(databaseObj.index)}\\n')\n",
    "        log_file.write(f'------------ TYPES -------------\\n')\n",
    "        with open(os.path.join(os.getcwd(),type_file), \"r\") as t_file:\n",
    "            for line in t_file.readlines():\n",
    "                log_file.write(line)\n",
    "        log_file.write('\\n')\n",
    "        log_file.write(f'------------  INFO -------------\\n')\n",
    "        with open(os.path.join(os.getcwd(),info_file), \"r\") as i_file:\n",
    "            for line in i_file.readlines():\n",
    "                log_file.write(line)\n",
    "        log_file.write('\\n')\n",
    "        log_file.write('\\n')\n",
    "        log_file.write(f'------- DATABASE SNIPPIT ------\\n')\n",
    "        databaseObj.sample(n=10).to_csv(path_or_buf = log_file)\n",
    "        log_file.write('-------------- MLN -------------\\n')\n",
    "        with open(os.path.join(MLN_DIR, f\"{save_file_name}-rules-out.mln\"), \"r\") as f:\n",
    "            for line in f.readlines():\n",
    "                line = line[0:-1]\n",
    "                line_frag = line.split(' ')\n",
    "                try:\n",
    "                    float(line_frag[0])\n",
    "                    log_file.write(line+'\\n')\n",
    "                except:\n",
    "                    pass\n",
    "            \n",
    "print('Structure learning...')\n",
    "structure_learn(info_file, type_file)\n",
    "print('Done!')"
   ]
  },
  {
   "cell_type": "markdown",
   "id": "888b14a6",
   "metadata": {},
   "source": [
    "# Complete Pipeline"
   ]
  },
  {
   "cell_type": "code",
   "execution_count": 13,
   "id": "45d54edd",
   "metadata": {},
   "outputs": [
    {
     "name": "stdout",
     "output_type": "stream",
     "text": [
      " 27%|██▋       | 0.8/3 [4:04:58<11:13:41, 18373.51s/it]       \n"
     ]
    },
    {
     "ename": "FileNotFoundError",
     "evalue": "[Errno 2] No such file or directory: '/InfoFiles/MovieLens.type'",
     "output_type": "error",
     "traceback": [
      "\u001b[0;31m--------------------------------\u001b[0m",
      "\u001b[0;31mFileNotFoundError\u001b[0mTraceback (most recent call last)",
      "\u001b[0;32m<ipython-input-13-1617cba83c73>\u001b[0m in \u001b[0;36m<module>\u001b[0;34m\u001b[0m\n\u001b[1;32m    106\u001b[0m             \u001b[0mpbar\u001b[0m\u001b[0;34m.\u001b[0m\u001b[0mupdate\u001b[0m\u001b[0;34m(\u001b[0m\u001b[0;36m0.2\u001b[0m\u001b[0;34m)\u001b[0m\u001b[0;34m\u001b[0m\u001b[0;34m\u001b[0m\u001b[0m\n\u001b[1;32m    107\u001b[0m         \u001b[0mstructure_learn\u001b[0m\u001b[0;34m(\u001b[0m\u001b[0minfo_file\u001b[0m\u001b[0;34m,\u001b[0m \u001b[0mtype_file\u001b[0m\u001b[0;34m)\u001b[0m\u001b[0;34m\u001b[0m\u001b[0;34m\u001b[0m\u001b[0m\n\u001b[0;32m--> 108\u001b[0;31m         \u001b[0mprint_MLN\u001b[0m\u001b[0;34m(\u001b[0m\u001b[0mlog_file\u001b[0m\u001b[0;34m,\u001b[0m \u001b[0minfo_file\u001b[0m\u001b[0;34m,\u001b[0m \u001b[0mtype_file\u001b[0m\u001b[0;34m)\u001b[0m\u001b[0;34m\u001b[0m\u001b[0;34m\u001b[0m\u001b[0m\n\u001b[0m\u001b[1;32m    109\u001b[0m         \u001b[0mpbar\u001b[0m\u001b[0;34m.\u001b[0m\u001b[0mupdate\u001b[0m\u001b[0;34m(\u001b[0m\u001b[0;36m0.2\u001b[0m\u001b[0;34m)\u001b[0m\u001b[0;34m\u001b[0m\u001b[0;34m\u001b[0m\u001b[0m\n\u001b[1;32m    110\u001b[0m \u001b[0;34m\u001b[0m\u001b[0m\n",
      "\u001b[0;32m<ipython-input-10-b017b6b4c034>\u001b[0m in \u001b[0;36mprint_MLN\u001b[0;34m(log_file_name, info_file, type_file)\u001b[0m\n\u001b[1;32m     22\u001b[0m         \u001b[0mlog_file\u001b[0m\u001b[0;34m.\u001b[0m\u001b[0mwrite\u001b[0m\u001b[0;34m(\u001b[0m\u001b[0;34mf'database size: {len(databaseObj.index)}\\n'\u001b[0m\u001b[0;34m)\u001b[0m\u001b[0;34m\u001b[0m\u001b[0;34m\u001b[0m\u001b[0m\n\u001b[1;32m     23\u001b[0m         \u001b[0mlog_file\u001b[0m\u001b[0;34m.\u001b[0m\u001b[0mwrite\u001b[0m\u001b[0;34m(\u001b[0m\u001b[0;34mf'------------ TYPES -------------\\n'\u001b[0m\u001b[0;34m)\u001b[0m\u001b[0;34m\u001b[0m\u001b[0;34m\u001b[0m\u001b[0m\n\u001b[0;32m---> 24\u001b[0;31m         \u001b[0;32mwith\u001b[0m \u001b[0mopen\u001b[0m\u001b[0;34m(\u001b[0m\u001b[0mos\u001b[0m\u001b[0;34m.\u001b[0m\u001b[0mpath\u001b[0m\u001b[0;34m.\u001b[0m\u001b[0mjoin\u001b[0m\u001b[0;34m(\u001b[0m\u001b[0mos\u001b[0m\u001b[0;34m.\u001b[0m\u001b[0mgetcwd\u001b[0m\u001b[0;34m(\u001b[0m\u001b[0;34m)\u001b[0m\u001b[0;34m,\u001b[0m\u001b[0mtype_file\u001b[0m\u001b[0;34m)\u001b[0m\u001b[0;34m,\u001b[0m \u001b[0;34m\"r\"\u001b[0m\u001b[0;34m)\u001b[0m \u001b[0;32mas\u001b[0m \u001b[0mt_file\u001b[0m\u001b[0;34m:\u001b[0m\u001b[0;34m\u001b[0m\u001b[0;34m\u001b[0m\u001b[0m\n\u001b[0m\u001b[1;32m     25\u001b[0m             \u001b[0;32mfor\u001b[0m \u001b[0mline\u001b[0m \u001b[0;32min\u001b[0m \u001b[0mt_file\u001b[0m\u001b[0;34m.\u001b[0m\u001b[0mreadlines\u001b[0m\u001b[0;34m(\u001b[0m\u001b[0;34m)\u001b[0m\u001b[0;34m:\u001b[0m\u001b[0;34m\u001b[0m\u001b[0;34m\u001b[0m\u001b[0m\n\u001b[1;32m     26\u001b[0m                 \u001b[0mlog_file\u001b[0m\u001b[0;34m.\u001b[0m\u001b[0mwrite\u001b[0m\u001b[0;34m(\u001b[0m\u001b[0mline\u001b[0m\u001b[0;34m)\u001b[0m\u001b[0;34m\u001b[0m\u001b[0;34m\u001b[0m\u001b[0m\n",
      "\u001b[0;31mFileNotFoundError\u001b[0m: [Errno 2] No such file or directory: '/InfoFiles/MovieLens.type'"
     ]
    }
   ],
   "source": [
    "import itertools\n",
    "import sys\n",
    "\n",
    "def get_info_and_type_files(restrict_genres, number_age_categories, number_rating_categories, remove_redundant_binary_predicate):\n",
    "    type_file = 'MovieLens.type'\n",
    "    if restrict_genres:\n",
    "        if number_age_categories == 2:\n",
    "            if number_rating_categories == 2:\n",
    "                if remove_redundant_binary_predicate:\n",
    "                    info_file = 'MovieLens_rg_age2_rating2_nonbi.info'\n",
    "                else:\n",
    "                    info_file = 'MovieLens_rg_age2_rating2.info'\n",
    "            elif number_rating_categories == 3:\n",
    "                if remove_redundant_binary_predicate:\n",
    "                    info_file = 'MovieLens_rg_age2_rating3_nonbi.info'\n",
    "                else:\n",
    "                    info_file = 'MovieLens_rg_age2_rating3.info'\n",
    "            else:\n",
    "                raise ValueError('number of rating categories must be either 2 or 3')\n",
    "        elif number_age_categories == 3:\n",
    "            if number_rating_categories == 2:\n",
    "                if remove_redundant_binary_predicate:\n",
    "                    info_file = 'MovieLens_rg_age3_rating2_nonbi.info'\n",
    "                else:\n",
    "                    info_file = 'MovieLens_rg_age3_rating2.info'\n",
    "            elif number_rating_categories == 3:\n",
    "                if remove_redundant_binary_predicate:\n",
    "                    info_file = 'MovieLens_rg_age3_rating3_nonbi.info'\n",
    "                else:\n",
    "                    info_file = 'MovieLens_rg_age3_rating3.info'\n",
    "            else:\n",
    "                raise ValueError('number of rating categories must be either 2 or 3')\n",
    "        else:\n",
    "            raise ValueError('number of age categories must be either 2 or 3')\n",
    "    else:\n",
    "        if number_age_categories == 2:\n",
    "            if number_rating_categories == 2:\n",
    "                if remove_redundant_binary_predicate:\n",
    "                    info_file = 'MovieLens_age2_rating2_nonbi.info'\n",
    "                else:\n",
    "                    info_file = 'MovieLens_age2_rating2.info'\n",
    "            elif number_rating_categories == 3:\n",
    "                if remove_redundant_binary_predicate:\n",
    "                    info_file = 'MovieLens_age2_rating3_nonbi.info'\n",
    "                else:\n",
    "                    info_file = 'MovieLens_age2_rating3.info'\n",
    "            else:\n",
    "                raise ValueError('number of rating categories must be either 2 or 3')\n",
    "        elif number_age_categories == 3:\n",
    "            if number_rating_categories == 2:\n",
    "                if remove_redundant_binary_predicate:\n",
    "                    info_file = 'MovieLens_age3_rating2_nonbi.info'\n",
    "                else:\n",
    "                    info_file = 'MovieLens_age3_rating2.info'\n",
    "            elif number_rating_categories == 3:\n",
    "                if remove_redundant_binary_predicate:\n",
    "                    info_file = 'MovieLens_age3_rating3_nonbi.info'\n",
    "                else:\n",
    "                    info_file = 'MovieLens_age3_rating3.info'\n",
    "            else:\n",
    "                raise ValueError('number of rating categories must be either 2 or 3')\n",
    "        else:\n",
    "            raise ValueError('number of age categories must be either 2 or 3')\n",
    "            file\n",
    "    return info_file, type_file\n",
    "\n",
    "log_file = 'MovieLens_StructureLearning.log'\n",
    "\n",
    "database_file_name = 'MovieLens.db'\n",
    "database_file = os.path.join(THIS_FOLDER, database_file_name)\n",
    "info_file_directory = '/InfoFiles'\n",
    "\n",
    "num_age_categories_list =  [2]                                               \n",
    "num_rating_categories_list = [2]                                               \n",
    "restrict_genres_list = [False]                                                                                                                        \n",
    "number_of_ratings_list = [1000,3000,10000]  \n",
    "\n",
    "hyperparameters = itertools.product(number_of_ratings_list, num_age_categories_list, num_rating_categories_list, restrict_genres_list)\n",
    "number_of_params = len(num_age_categories_list)*len(num_rating_categories_list)*len(restrict_genres_list)*len(number_of_ratings_list)\n",
    "\n",
    "with tqdm(total = number_of_params, file=sys.stdout) as pbar:\n",
    "    for hyperparameter_setting in hyperparameters:\n",
    "        with open(database_file, 'w') as file:\n",
    "            databaseObj = pd.DataFrame(columns=['predicate', 'arguments'])\n",
    "\n",
    "            banned_movies = set()\n",
    "            rated_movies = []\n",
    "            users_rating_movies = []\n",
    "\n",
    "            number_of_ratings = hyperparameter_setting[0]  \n",
    "            num_age_categories = hyperparameter_setting[1]\n",
    "            num_rating_categories = hyperparameter_setting[2]    \n",
    "            restrict_genres = hyperparameter_setting[3]    \n",
    "\n",
    "            info_file, type_file = get_info_and_type_files(restrict_genres, num_age_categories, num_rating_categories, True)\n",
    "            info_file = os.path.join(info_file_directory, info_file)\n",
    "            type_file = os.path.join(info_file_directory, type_file)\n",
    "            \n",
    "            populate_banned_movies(movie_data_frame)\n",
    "            pbar.update(0.2)\n",
    "            write_ratings_ground_atoms_to_file_and_populate_rated_movies_and_users_rating_movies_arrays(ratings_data_frame, file)\n",
    "            pbar.update(0.2)\n",
    "            write_movie_ground_atoms_to_file(movie_data_frame, file)\n",
    "            pbar.update(0.2)\n",
    "            write_user_ground_atoms_to_file(user_data_frame, file)\n",
    "            pbar.update(0.2)\n",
    "        structure_learn(info_file, type_file)\n",
    "        print_MLN(log_file, info_file, type_file)\n",
    "        pbar.update(0.2)\n",
    "    "
   ]
  },
  {
   "cell_type": "code",
   "execution_count": 135,
   "id": "cbe00463",
   "metadata": {},
   "outputs": [
    {
     "data": {
      "text/html": [
       "<div>\n",
       "<style scoped>\n",
       "    .dataframe tbody tr th:only-of-type {\n",
       "        vertical-align: middle;\n",
       "    }\n",
       "\n",
       "    .dataframe tbody tr th {\n",
       "        vertical-align: top;\n",
       "    }\n",
       "\n",
       "    .dataframe thead th {\n",
       "        text-align: right;\n",
       "    }\n",
       "</style>\n",
       "<table border=\"1\" class=\"dataframe\">\n",
       "  <thead>\n",
       "    <tr style=\"text-align: right;\">\n",
       "      <th></th>\n",
       "      <th>predicate</th>\n",
       "      <th>arguments</th>\n",
       "    </tr>\n",
       "  </thead>\n",
       "  <tbody>\n",
       "    <tr>\n",
       "      <th>0</th>\n",
       "      <td>Rating</td>\n",
       "      <td>U551,M1748,Positive</td>\n",
       "    </tr>\n",
       "    <tr>\n",
       "      <th>1</th>\n",
       "      <td>Rating</td>\n",
       "      <td>U4789,M110,Indifferent</td>\n",
       "    </tr>\n",
       "    <tr>\n",
       "      <th>2</th>\n",
       "      <td>Rating</td>\n",
       "      <td>U4258,M517,Indifferent</td>\n",
       "    </tr>\n",
       "    <tr>\n",
       "      <th>3</th>\n",
       "      <td>Rating</td>\n",
       "      <td>U4819,M2794,Indifferent</td>\n",
       "    </tr>\n",
       "    <tr>\n",
       "      <th>4</th>\n",
       "      <td>Rating</td>\n",
       "      <td>U3605,M2502,Positive</td>\n",
       "    </tr>\n",
       "    <tr>\n",
       "      <th>...</th>\n",
       "      <td>...</td>\n",
       "      <td>...</td>\n",
       "    </tr>\n",
       "    <tr>\n",
       "      <th>1193</th>\n",
       "      <td>Youthful</td>\n",
       "      <td>U5530</td>\n",
       "    </tr>\n",
       "    <tr>\n",
       "      <th>1194</th>\n",
       "      <td>Male</td>\n",
       "      <td>U2225</td>\n",
       "    </tr>\n",
       "    <tr>\n",
       "      <th>1195</th>\n",
       "      <td>Youthful</td>\n",
       "      <td>U2225</td>\n",
       "    </tr>\n",
       "    <tr>\n",
       "      <th>1196</th>\n",
       "      <td>Male</td>\n",
       "      <td>U869</td>\n",
       "    </tr>\n",
       "    <tr>\n",
       "      <th>1197</th>\n",
       "      <td>Youthful</td>\n",
       "      <td>U869</td>\n",
       "    </tr>\n",
       "  </tbody>\n",
       "</table>\n",
       "<p>1198 rows × 2 columns</p>\n",
       "</div>"
      ],
      "text/plain": [
       "     predicate                arguments\n",
       "0       Rating      U551,M1748,Positive\n",
       "1       Rating   U4789,M110,Indifferent\n",
       "2       Rating   U4258,M517,Indifferent\n",
       "3       Rating  U4819,M2794,Indifferent\n",
       "4       Rating     U3605,M2502,Positive\n",
       "...        ...                      ...\n",
       "1193  Youthful                    U5530\n",
       "1194      Male                    U2225\n",
       "1195  Youthful                    U2225\n",
       "1196      Male                     U869\n",
       "1197  Youthful                     U869\n",
       "\n",
       "[1198 rows x 2 columns]"
      ]
     },
     "metadata": {},
     "output_type": "display_data"
    },
    {
     "name": "stdout",
     "output_type": "stream",
     "text": [
      "movie\n",
      "\n",
      "user\n",
      "\n",
      "rating\n",
      "\n",
      "what\n"
     ]
    }
   ],
   "source": [
    "databaseObj = pd.DataFrame(columns=['predicate', 'arguments'])\n",
    "\n",
    "banned_movies = set()\n",
    "rated_movies = []\n",
    "users_rating_movies = []\n",
    "with open(database_file, 'w') as file:\n",
    "    num_age_categories = 3\n",
    "    num_rating_categories = 3   \n",
    "    restrict_genres = False  \n",
    "    alternative_predicate_types = False  \n",
    "    number_of_ratings = 250\n",
    "\n",
    "    info_file, type_file = get_info_and_type_files(restrict_genres, num_age_categories, alternative_predicate_types)\n",
    "\n",
    "    populate_banned_movies(movie_data_frame)\n",
    "    write_ratings_ground_atoms_to_file_and_populate_rated_movies_and_users_rating_movies_arrays(ratings_data_frame, file)\n",
    "    write_movie_ground_atoms_to_file(movie_data_frame, file)\n",
    "    write_user_ground_atoms_to_file(user_data_frame, file)\n",
    "    display(databaseObj)\n",
    "    structure_learn(info_file, type_file)\n",
    "    print_MLN(log_file, info_file, type_file)"
   ]
  },
  {
   "cell_type": "code",
   "execution_count": 131,
   "id": "be099d64",
   "metadata": {},
   "outputs": [
    {
     "name": "stdout",
     "output_type": "stream",
     "text": [
      "MovieLens.info\n",
      "movie\n",
      "\n",
      "user\n",
      "\n",
      "rating\n",
      "\n"
     ]
    }
   ],
   "source": []
  },
  {
   "cell_type": "code",
   "execution_count": 27,
   "id": "ce3d0f00",
   "metadata": {},
   "outputs": [],
   "source": [
    "structure_learn(info_file, type_file)\n",
    "print_MLN(log_file, info_file, type_file)"
   ]
  },
  {
   "cell_type": "markdown",
   "id": "c549ef84",
   "metadata": {},
   "source": [
    "### Inference On The MLN"
   ]
  },
  {
   "cell_type": "code",
   "execution_count": 15,
   "id": "f05d9fe4",
   "metadata": {},
   "outputs": [
    {
     "data": {
      "text/plain": [
       "127"
      ]
     },
     "execution_count": 15,
     "metadata": {},
     "output_type": "execute_result"
    }
   ],
   "source": [
    "mln_file_name = 'MovieLens500.mln'\n",
    "database_file = 'MovieLens500.db'\n",
    "results_file = 'MovieLens500Inference'\n",
    "INFER_DIR = '/home/domphillips/MarkovLogic/alchemy-2/bin'\n",
    "query_predicates = 'Likes;Dislikes'\n",
    "\n",
    "inference_command = f'{INFER_DIR}/infer -i {mln_file_name} -r {results_file} -e {database_file} -q {query_predicates}'\n",
    "subprocess.call(inference_command,shell=True)"
   ]
  },
  {
   "cell_type": "code",
   "execution_count": null,
   "id": "bf9620b5",
   "metadata": {},
   "outputs": [],
   "source": []
  }
 ],
 "metadata": {
  "kernelspec": {
   "display_name": "Python 3",
   "language": "python",
   "name": "python3"
  },
  "language_info": {
   "codemirror_mode": {
    "name": "ipython",
    "version": 3
   },
   "file_extension": ".py",
   "mimetype": "text/x-python",
   "name": "python",
   "nbconvert_exporter": "python",
   "pygments_lexer": "ipython3",
   "version": "3.8.5"
  }
 },
 "nbformat": 4,
 "nbformat_minor": 5
}
